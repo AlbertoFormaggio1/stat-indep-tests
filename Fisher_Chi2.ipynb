{
 "cells": [
  {
   "cell_type": "markdown",
   "source": [
    "# Task 1\n",
    "\n",
    "Let us now derive the probability of getting to the following table:\n",
    "\n",
    "|            | Field A1   | Field A2     |            |\n",
    "|------------|------------|--------------|------------|\n",
    "| Field B1   | a          | b            | a + b      |\n",
    "| Field B2   | c          | d            | c + d      |\n",
    "|            | a + c      | b + d        | N          |\n",
    "\n",
    "We know that a probability in general can be computed as $p = \\frac{\\text{favorable outcomes}}{\\text{possible outcomes}}$\n",
    "\n",
    "We will compute the numerator and the denominator separately.\n",
    "First, we want to see in how many ways we can construct the table by distributing N elements in such a way we get the values a, b, c, d in the table in the way they are presented in the table.\n",
    "This value is actually $$\\binom{N}{a,b,c,d}$$\n",
    "\n",
    "$$\\binom{N}{a,b,c,d} = \\binom{N}{a} \\binom{N-a}{b} \\binom{N-a-b}{c} \\binom{N-a-b-c}{d} =\n",
    "\\binom{N}{a} \\binom{N-a}{b} \\binom{N-a-b}{c} \\cdot 1 $$\n",
    "\n",
    "Where at every step we subtract the ones used in the previous coefficient since we have less elements to distribute.\n",
    "(We simplified observing that $N-a-b-c = d$)\n",
    "\n",
    "Then\n",
    "$$\\binom{N}{a,b,c,d} = \\frac{N!}{a!(N-a)!} \\cdot \\frac{(N-a)!}{b!(N-a-b)!} \\cdot \\frac{(N-a-b)!}{c!(N-a-b-c)!} = \\frac{N!}{a!b!c!d!}$$\n",
    "\n",
    "Now that we have the favorable outcomes, we need to derive all the possible outcomes.\n",
    "To do so we are going to compute in how many ways we can arrange the N values in such a way that we get $(a+b),(c+d)$ as row sums and $(a+c),(b+d)$ as column sums. This, again, corresponds to computing the binomial coefficient, in this case N over the 2 values for the row sums (and then, column sums).\n",
    "\n",
    "We will now perform this for the row sums, then it will be the same also for the column sums:\n",
    "$$\\binom{N}{(a+b)(c+d)} = \\binom{N}{(a+b)}\\binom{N-(a+b)}{(c+d)} = \\frac{N!}{(a+b)!(N-(a+b))!} \\cdot \\frac{(N-a-b)!}{(c+d)!(N-a-b-c-d)!} = \\frac{N!}{(a+b)!(c+d)!}$$\n",
    "\n",
    "We can do the same for the marginal column sums and we get\n",
    "$$\\binom{N}{(a+c),(b+d)} = \\frac{N!}{(a+c)!(b+d)!}$$\n",
    "\n",
    "Now we divide the number of possible the number of the possibilities of obtaining the table a,b,c,d by the number of possiblities of having the marginal row and column sums:\n",
    "\n",
    "$$ p = \\frac{\\frac{N!}{a!b!c!d!}}{\\frac{N!}{(a+b)!(c+d)!} \\cdot \\frac{N!}{(a+c)!(b+d)!}} = \\frac{(a+b)!(c+d)!(a+c)!(a+d)!}{N!a!b!c!d!} $$"
   ],
   "metadata": {
    "collapsed": false
   }
  },
  {
   "cell_type": "markdown",
   "source": [
    "### Before starting\n",
    "\n",
    "Let us import all the libraries that we will need in the execution of the assignment"
   ],
   "metadata": {
    "collapsed": false
   }
  },
  {
   "cell_type": "code",
   "execution_count": 20,
   "outputs": [],
   "source": [
    "import numpy as np\n",
    "import scipy\n",
    "from scipy import stats\n",
    "from tabulate import tabulate"
   ],
   "metadata": {
    "collapsed": false
   }
  },
  {
   "cell_type": "markdown",
   "source": [
    "# Task 2\n",
    "\n",
    "In the following script we are going to compute the probability of getting a table 2 x 2 defined as follows:\n",
    "\n",
    "|            | Field A1   | Field A2     |\n",
    "|------------|------------|--------------|\n",
    "| Field B1   | a          | b            |\n",
    "| Field B2   | c          | d            |"
   ],
   "metadata": {
    "collapsed": false
   }
  },
  {
   "cell_type": "code",
   "execution_count": 21,
   "outputs": [],
   "source": [
    "# Constructs the table and returns a numpy array with its field, the marginal sums, and the total number of observations.\n",
    "def obtain_table(a,b,c,d):\n",
    "    # Creating the matrix\n",
    "    observations = np.array([[a, b], [c, d]])\n",
    "    # Computing the marginal sums and the overall sum for the matrix\n",
    "    marginal_col_sums = np.sum(observations, axis=0, keepdims=True)\n",
    "    marginal_row_sums = np.sum(observations, axis=1, keepdims=True)\n",
    "    N = np.sum(marginal_col_sums)\n",
    "\n",
    "    return observations, marginal_col_sums, marginal_row_sums, N\n",
    "\n",
    "\n",
    "def TabProb(a,b,c,d):\n",
    "    observations, marginal_col_sums, marginal_row_sums, N = obtain_table(a,b,c,d)\n",
    "\n",
    "    # Computing now the numerator (in how many ways we can distribute N in such a way to get a,b,c,d in the matrix)\n",
    "    numerator = 1\n",
    "    for v in np.nditer(marginal_row_sums):\n",
    "        numerator *= np.math.factorial(v)\n",
    "    for v in np.nditer(marginal_col_sums):\n",
    "        numerator *= np.math.factorial(v)\n",
    "\n",
    "    # Computing now instead the overall number of outcomes with marginal sums (a+c), (b+d) for the column marginal sums and (a+b),(b+d) for the row sums\n",
    "    denominator = 1\n",
    "    for v in np.nditer(observations):\n",
    "        denominator *= np.math.factorial(v)\n",
    "    denominator *= np.math.factorial(N)\n",
    "\n",
    "    # The probability is equal to (Favorable outcomes / overall possibilities)\n",
    "    probability = numerator / denominator\n",
    "\n",
    "    return probability"
   ],
   "metadata": {
    "collapsed": false
   }
  },
  {
   "cell_type": "markdown",
   "source": [
    "We can now try our method with a simple table for which we can also evaluate the results by hand\n",
    "\n",
    "|            | Field A1   | Field A2     |\n",
    "|------------|------------|--------------|\n",
    "| Field B1   | 1          | 2            |\n",
    "| Field B2   | 3          | 4            |\n",
    "\n",
    "The row sums = [3,7], while the column sums = [4,6], respectively.\n",
    "\n",
    "Let us now compute the formula and we simply get\n",
    "\n",
    "$$p = \\frac{3!7!4!6!}{10!1!2!3!4!} = 0.5$$\n",
    "\n",
    "Let us now run the code and see what the output actually is"
   ],
   "metadata": {
    "collapsed": false
   }
  },
  {
   "cell_type": "code",
   "execution_count": 22,
   "outputs": [
    {
     "name": "stdout",
     "output_type": "stream",
     "text": [
      "p = 0.5\n"
     ]
    }
   ],
   "source": [
    "print('p =', TabProb(1,2,3,4))"
   ],
   "metadata": {
    "collapsed": false
   }
  },
  {
   "cell_type": "markdown",
   "source": [
    "Which was what we were expecting, so our method is working fine.\n",
    "\n",
    "Once that we know that the method is working correctly, we can move ahead by computing the probability of getting the exact table required in the exercise."
   ],
   "metadata": {
    "collapsed": false
   }
  },
  {
   "cell_type": "code",
   "execution_count": 23,
   "outputs": [
    {
     "name": "stdout",
     "output_type": "stream",
     "text": [
      "p = 0.06108597285067873\n"
     ]
    }
   ],
   "source": [
    "print('p =', TabProb(8,1,4,5))"
   ],
   "metadata": {
    "collapsed": false
   }
  },
  {
   "cell_type": "markdown",
   "source": [
    "# Task 3\n",
    "\n",
    "### Answer to the question:\n",
    "The possible meaningful combinations {$\\chi^2$ test, Fisher's test} x {one-sided, two-sided} are:\n",
    "- $\\chi^2$ : one-sided --> The rejection region for $\\chi^2$ is on the right (you are looking at the right tail when deciding independence). Moreover, during the computation by taking the square, you forget about the sign of $e_{kl} - a_{kl}$\n",
    "- Fisher's : one-sided\n",
    "- Fisher's : two-sided\n",
    "\n",
    "The table used in our experiment is the following:\n",
    "\n",
    "|          | Improvement YES | Improvement NO |     |\n",
    "|----------|-----------------|----------------|-----|\n",
    "| Drug A   | 8               | 1              | 9   |\n",
    "| Drug B   | 4               | 5              | 9   |\n",
    "| ________ | _______________ | ______________ | ___ |\n",
    "|          | 12              | 6              | 18  |\n",
    "\n",
    "\n",
    "What we want to see is whether both drugs have the same effect on the patient\n"
   ],
   "metadata": {
    "collapsed": false
   }
  },
  {
   "cell_type": "markdown",
   "source": [
    "## *$\\chi^2$ test*\n",
    "\n",
    "Before starting the test we need to decide the nunll hypothesis.\n",
    "It will be defined as: $$H_{0} = \\text{The improvements for both drugs come from the same distribution}$$\n",
    "\n",
    "Our alternative hypothesis (to be considered when the null hypothesis is rejected) will be:\n",
    "$$H_1 = \\text{The improvements for the 2 drugs come from different distributions}$$\n",
    "\n",
    "##### Computation of the statistical $\\chi^2$\n",
    "First, we are going to obtain the table of observations and the expected counts from the given table.\n",
    "At the end, we will also print the corresponding table."
   ],
   "metadata": {
    "collapsed": false
   }
  },
  {
   "cell_type": "code",
   "execution_count": 24,
   "outputs": [
    {
     "name": "stdout",
     "output_type": "stream",
     "text": [
      "╒═══╤═══╕\n",
      "│ 6 │ 3 │\n",
      "├───┼───┤\n",
      "│ 6 │ 3 │\n",
      "╘═══╧═══╛\n"
     ]
    }
   ],
   "source": [
    "obs, col_sums, row_sums, n = obtain_table(8,1,4,5)\n",
    "\n",
    "expected = col_sums * row_sums / n\n",
    "\n",
    "table = tabulate(expected, tablefmt=\"fancy_grid\")\n",
    "print(table)"
   ],
   "metadata": {
    "collapsed": false
   }
  },
  {
   "cell_type": "markdown",
   "source": [
    "Once we are done with this, we can compute the value for the $\\chi^2$ obtained from our distribution of the data"
   ],
   "metadata": {
    "collapsed": false
   }
  },
  {
   "cell_type": "code",
   "execution_count": 25,
   "outputs": [
    {
     "name": "stdout",
     "output_type": "stream",
     "text": [
      "The chi^2 value obtained from our data is = 4.0\n"
     ]
    }
   ],
   "source": [
    "x2stat = np.sum(((obs - expected)**2)/expected)\n",
    "print('The chi^2 value obtained from our data is =', x2stat)"
   ],
   "metadata": {
    "collapsed": false
   }
  },
  {
   "cell_type": "markdown",
   "source": [
    "##### Comparison with the $\\chi^2$ distribution\n",
    "\n",
    "When performing the $\\chi^2$ test we need to know 2 things:\n",
    "- The number of degrees of freedom, which are defining the shape of the $\\chi^2$ distribution.\n",
    "    In our case, $dof = (number \\hspace{0.2cm} of \\hspace{0.2cm} rows - 1) \\cdot (number \\hspace{0.2cm} of \\hspace{0.2cm} columns - 1)$\n",
    "- The level of significance $\\alpha$, which in this case was given from the text of the exercise: $\\alpha = 0.05$"
   ],
   "metadata": {
    "collapsed": false
   }
  },
  {
   "cell_type": "code",
   "execution_count": 26,
   "outputs": [
    {
     "name": "stdout",
     "output_type": "stream",
     "text": [
      "dof = 1\n",
      "alpha = 0.05\n"
     ]
    }
   ],
   "source": [
    "dof = (obs.shape[0] - 1) * (obs.shape[1] - 1)\n",
    "alpha = 0.05\n",
    "\n",
    "print('dof =',dof)\n",
    "print('alpha =', alpha)"
   ],
   "metadata": {
    "collapsed": false
   }
  },
  {
   "cell_type": "markdown",
   "source": [
    "Now we want to compute $\\chi^2$ such that $$1 - cdf(\\chi^2) = \\alpha \\iff sf(\\chi^2) = \\alpha \\iff \\chi^2 = isf(\\alpha)$$\n",
    "\n",
    "Where:\n",
    " - cdf = comulative density function\n",
    "- sf = survival function $(1 - cdf)$\n",
    "- isf = inverse survival function"
   ],
   "metadata": {
    "collapsed": false
   }
  },
  {
   "cell_type": "code",
   "execution_count": 27,
   "outputs": [
    {
     "name": "stdout",
     "output_type": "stream",
     "text": [
      "The 'boundary' chi^2 from the distribution is: 3.8414588206941285\n"
     ]
    }
   ],
   "source": [
    "distr_chi2 = scipy.stats.chi2.isf(alpha, df=dof)\n",
    "print('The \\'boundary\\' chi^2 from the distribution is:', distr_chi2)"
   ],
   "metadata": {
    "collapsed": false
   }
  },
  {
   "cell_type": "markdown",
   "source": [
    "Now we can perform the actual test since we have both $\\chi^2_{stat}$ and $\\chi^2_{1}(\\alpha)$.\n",
    "\n",
    "If $\\chi^2_{stat} \\geq \\chi^2_{1}(\\alpha)$, then we can reject the null hypothesis.\n",
    "Let us now perform the aforementioned test"
   ],
   "metadata": {
    "collapsed": false
   }
  },
  {
   "cell_type": "code",
   "execution_count": 28,
   "outputs": [
    {
     "name": "stdout",
     "output_type": "stream",
     "text": [
      "The null hypothesis is rejected\n"
     ]
    }
   ],
   "source": [
    "if x2stat >= distr_chi2:\n",
    "    print('The null hypothesis is rejected')\n",
    "else:\n",
    "    print('The null hypothesis can\\'t be rejected')"
   ],
   "metadata": {
    "collapsed": false
   }
  },
  {
   "cell_type": "markdown",
   "source": [],
   "metadata": {
    "collapsed": false
   }
  },
  {
   "cell_type": "markdown",
   "source": [
    "## *Fisher's test*\n",
    "\n",
    "The Fisher's test is usually used when we need to state the independence between 2 variables and our contingency table is a 2x2 table.\n",
    "It is usually used when the expected frequencies are lower than 5 and therefore the chi square test wouldn't give a reliable estimate.\n",
    "\n",
    "#### One-sided (less)\n",
    "Before performing the test it is *very important* to formulate correctly the null-hypothesis.\n",
    "When using a one-sided test, we are assuming that only one side is relevant to us (and we can do this thanks to our previous knowledge of the problem) and we are aware of the consequence of missing the effect in the other (untested) direction.\n",
    "\n",
    "In this case, we want to see if Drug A performs better than Drug B or not.\n",
    "Therefore, our null hypothesis will be \"Drug A is no better than Drug B\"\n",
    "Which can be reformulated as\n",
    "$$H_0 = \\text{improvements due to Drug A \\leq improvements due to Drug B}$$\n",
    "\n",
    "The alternative hypothesis instead will be:\n",
    "$$H_1 = \\text{improvements due to Drug A > improvements due to Drug B }$$\n",
    "\n",
    "If our test will reject the null hypothesis, then this means that the Drug A works actually better than Drug B.\n",
    "\n",
    "However, keep in mind that when doing this we are totally forgetting about the possibility of having an effect in the opposite direction.\n",
    "This can be useful sometimes, however less robust than a two-tailed test.\n"
   ],
   "metadata": {
    "collapsed": false
   }
  },
  {
   "cell_type": "markdown",
   "source": [
    "The probability of getting the given table or something even further away from the expected value is defined as:\n",
    "\n",
    "$$P = \\Sigma_{i=0}^{a}\\frac{(a+b)!(c+d)!(a+c)!(b+d)!}{n!(a-i)!(b+i)!(c+i)!(d-i)!}$$\n",
    "\n",
    "Under the assumption that the value in the top-left corner is the minimum value of the observations in the contingency table.\n",
    "In order to achieve this, we can do a permutation of the columns in such a way to transform this table:\n",
    "\n",
    "|                 | Improvement YES       | Improvement NO         |        |\n",
    "|-----------------|-----------------------|------------------------|--------|\n",
    "| Drug A          | 8                     | 1                      | 9      |\n",
    "| Drug B          | 4                     | 5                      | 9      |\n",
    "| ____________ | _____________________ | _____________________ | ______ |\n",
    "|                 | 12                    | 6                      | 18     |\n",
    "\n",
    "into this one:\n",
    "\n",
    "|          | Improvement NO  | Improvement YES |     |\n",
    "|----------|-----------------|-----------------|-----|\n",
    "| Drug A   | 1               | 8               | 9   |\n",
    "| Drug B   | 5               | 4               | 9   |\n",
    "| ____________ | _____________________ | _____________________ | ______ |\n",
    "|          | 6               | 12              | 18  |\n",
    "\n",
    "\n",
    "**NOTE:**\n",
    "Since the probability of the table does not change when we do a permutation of the rows or of the columns, we could as well leave the table untouched and increase the top-left value up to 9 (so only 2 tables will be considered anyway).\n",
    "I used this approach so it is not different from what we have seen during the theoretical lecture."
   ],
   "metadata": {
    "collapsed": false
   }
  },
  {
   "cell_type": "code",
   "execution_count": 29,
   "outputs": [
    {
     "name": "stdout",
     "output_type": "stream",
     "text": [
      "The permuted table is \n",
      "╒═══╤═══╕\n",
      "│ 1 │ 8 │\n",
      "├───┼───┤\n",
      "│ 5 │ 4 │\n",
      "╘═══╧═══╛\n"
     ]
    }
   ],
   "source": [
    "tmp = obs.copy()\n",
    "tmp[:,[0,1]] = tmp[:,[1,0]]\n",
    "\n",
    "table = tabulate(tmp, tablefmt=\"fancy_grid\")\n",
    "print('The permuted table is ')\n",
    "print(table)"
   ],
   "metadata": {
    "collapsed": false
   }
  },
  {
   "cell_type": "code",
   "execution_count": 30,
   "outputs": [
    {
     "name": "stdout",
     "output_type": "stream",
     "text": [
      "The probability of having table\n",
      "╒═══╤═══╕\n",
      "│ 1 │ 8 │\n",
      "├───┼───┤\n",
      "│ 5 │ 4 │\n",
      "╘═══╧═══╛\n",
      "is p = 0.06108597285067873 \n",
      "\n",
      "The probability of having table\n",
      "╒═══╤═══╕\n",
      "│ 0 │ 9 │\n",
      "├───┼───┤\n",
      "│ 6 │ 3 │\n",
      "╘═══╧═══╛\n",
      "is p = 0.004524886877828055 \n",
      "\n",
      "The overall probability is = 0.06561085972850679\n"
     ]
    }
   ],
   "source": [
    "def compute_prob_equal_or_further(data):\n",
    "    overall_prob = 0\n",
    "    while data[0,0] >= 0:\n",
    "        table = tabulate(data, tablefmt=\"fancy_grid\")\n",
    "\n",
    "        prob = TabProb(data[0,0], data[0,1], data[1,0], data[1,1])\n",
    "        overall_prob += prob\n",
    "\n",
    "        print('The probability of having table')\n",
    "        print(table)\n",
    "        print('is p =', prob, '\\n')\n",
    "\n",
    "        data[0,0] -= 1\n",
    "        data[1,1] -= 1\n",
    "        data[0,1] += 1\n",
    "        data[1,0] += 1\n",
    "\n",
    "    return overall_prob\n",
    "\n",
    "overall_prob_left = compute_prob_equal_or_further(tmp)\n",
    "print('The overall probability is =', overall_prob_left)"
   ],
   "metadata": {
    "collapsed": false
   }
  },
  {
   "cell_type": "markdown",
   "source": [
    "The $\\alpha$ level of confidence is always $\\alpha=0.05$\n",
    "If $P < alpha$, then the null hypothesis is rejected"
   ],
   "metadata": {
    "collapsed": false
   }
  },
  {
   "cell_type": "code",
   "execution_count": 31,
   "outputs": [
    {
     "name": "stdout",
     "output_type": "stream",
     "text": [
      "The null hypothesis is not rejected\n"
     ]
    }
   ],
   "source": [
    "alpha = 0.05\n",
    "\n",
    "if overall_prob_left < alpha:\n",
    "    print('The null hypothesis is rejected')\n",
    "else:\n",
    "    print('The null hypothesis is not rejected')"
   ],
   "metadata": {
    "collapsed": false
   }
  },
  {
   "cell_type": "markdown",
   "source": [
    "### One-sided (greater):\n",
    "\n",
    "As before, we need to re-state what the null hypothesis is.\n",
    "In this case instead we will consider whether Drug A will perform worse than Drug B.\n",
    "Therefore, we need to define the null hypothesis as:\n",
    "$$H_0 = \\text{improvements due to Drug A \\geq improvements due to Drug B}$$\n",
    "\n",
    "The alternative hypothesis will be instead:\n",
    "$$H_1 = \\text{improvements due to Drug A < improvements due to Drug B}$$\n",
    "\n",
    "Thus, if we reject the null hypothesis we can say that it is likely (how much likely depends on the significance level chosen) that Drug A will be worse than Drug B.\n",
    "\n",
    "Before we were on the left side with respect to the expected value, so now we need to move to the right.\n",
    "In order to do so, we will sum the expected values of the first cell to the values along the main diagonal and subtract it to the ones on secondary diagonal (we need to do this in order to preserve the row and column sums).\n",
    "\n",
    "Once done that, we can proceed by increasing the value in the top-left until it is equal to the row sum of the respective row."
   ],
   "metadata": {
    "collapsed": false
   }
  },
  {
   "cell_type": "code",
   "execution_count": 32,
   "outputs": [],
   "source": [
    "tmp, col_sums, row_sums, n = obtain_table(1,8,5,4)\n",
    "expected = col_sums * row_sums / n\n",
    "\n",
    "tmp[0,0] = tmp[0,0] + (expected[0,0] + 1)\n",
    "tmp[0,1] = tmp[0,1] - (expected[0,0] + 1)\n",
    "tmp[1,0] = tmp[1,0] - (expected[0,0] + 1)\n",
    "tmp[1,1] = tmp[1,1] + (expected[0,0] + 1)"
   ],
   "metadata": {
    "collapsed": false
   }
  },
  {
   "cell_type": "markdown",
   "source": [
    "We can now see how our matrix looks like:"
   ],
   "metadata": {
    "collapsed": false
   }
  },
  {
   "cell_type": "code",
   "execution_count": 33,
   "outputs": [
    {
     "name": "stdout",
     "output_type": "stream",
     "text": [
      "The table on the other side with respect to the expected value is\n",
      "╒═══╤═══╕\n",
      "│ 5 │ 4 │\n",
      "├───┼───┤\n",
      "│ 1 │ 8 │\n",
      "╘═══╧═══╛\n"
     ]
    }
   ],
   "source": [
    "table = tabulate(tmp, tablefmt=\"fancy_grid\")\n",
    "print('The table on the other side with respect to the expected value is')\n",
    "print(table)"
   ],
   "metadata": {
    "collapsed": false
   }
  },
  {
   "cell_type": "markdown",
   "source": [
    "As we can see, the row sums and column sums are preserved.\n",
    "In a way similar to what we did before, we will perform a permutation of the rows in such a way that the minimum value is in the top left corner.\n",
    "Again, this will not influence the probability of obtaining such a table"
   ],
   "metadata": {
    "collapsed": false
   }
  },
  {
   "cell_type": "code",
   "execution_count": 34,
   "outputs": [
    {
     "name": "stdout",
     "output_type": "stream",
     "text": [
      "The table after the permutation is\n",
      "╒═══╤═══╕\n",
      "│ 1 │ 8 │\n",
      "├───┼───┤\n",
      "│ 5 │ 4 │\n",
      "╘═══╧═══╛\n"
     ]
    }
   ],
   "source": [
    "tmp[[0,1]] = tmp[[1,0]]\n",
    "table = tabulate(tmp, tablefmt=\"fancy_grid\")\n",
    "print('The table after the permutation is')\n",
    "print(table)"
   ],
   "metadata": {
    "collapsed": false
   }
  },
  {
   "cell_type": "markdown",
   "source": [
    "We can now compute the probability of such a table or even further away from the expected value with the same function defined above"
   ],
   "metadata": {
    "collapsed": false
   }
  },
  {
   "cell_type": "code",
   "execution_count": 35,
   "outputs": [
    {
     "name": "stdout",
     "output_type": "stream",
     "text": [
      "The probability of having table\n",
      "╒═══╤═══╕\n",
      "│ 1 │ 8 │\n",
      "├───┼───┤\n",
      "│ 5 │ 4 │\n",
      "╘═══╧═══╛\n",
      "is p = 0.06108597285067873 \n",
      "\n",
      "The probability of having table\n",
      "╒═══╤═══╕\n",
      "│ 0 │ 9 │\n",
      "├───┼───┤\n",
      "│ 6 │ 3 │\n",
      "╘═══╧═══╛\n",
      "is p = 0.004524886877828055 \n",
      "\n",
      "The overall probability to the right is = 0.06561085972850679\n"
     ]
    }
   ],
   "source": [
    "overall_prob_right = compute_prob_equal_or_further(tmp)\n",
    "print('The overall probability to the right is =', overall_prob_right)"
   ],
   "metadata": {
    "collapsed": false
   }
  },
  {
   "cell_type": "markdown",
   "source": [
    "#### Note\n",
    "\n",
    "We can observe that the result we obtained for the \"greater\" and \"less\" tails are the same.\n",
    "In fact, in the exact Fisher's test the probability of the contingency table on one side and on the other of the expected value is the same."
   ],
   "metadata": {
    "collapsed": false
   }
  },
  {
   "cell_type": "markdown",
   "source": [
    "### Fisher's test (two-sided)\n",
    "We will look now at the two-sided version of the Fisher's test.\n",
    "\n",
    "This kind of test is more robust generally and we do not care about which drug is more effective than the other, we are just interested in any kind of correlation between the two.\n",
    "Our null hypothesis will be:\n",
    "$$H_0 = \\text{Both drugs come from the same distribution}$$\n",
    "\n",
    "And, in the same way as before, the alternative hypothesis is:\n",
    "$$H_1 = \\text{The 2 drugs come from 2 different distributions}$$\n",
    "\n",
    "Since we already have the p-values for the left-sided and right-sided fisher's test, we can just sum them up in order to obtain the 2-sided p-value."
   ],
   "metadata": {
    "collapsed": false
   }
  },
  {
   "cell_type": "code",
   "execution_count": 36,
   "outputs": [
    {
     "name": "stdout",
     "output_type": "stream",
     "text": [
      "0.13122171945701358\n",
      "The null hypothesis can't be rejected\n"
     ]
    }
   ],
   "source": [
    "fisher_two_sided = overall_prob_right + overall_prob_left\n",
    "print(fisher_two_sided)\n",
    "\n",
    "if fisher_two_sided >= alpha:\n",
    "    print('The null hypothesis can\\'t be rejected')\n",
    "else:\n",
    "    print('The null hypothesis is rejected')"
   ],
   "metadata": {
    "collapsed": false
   }
  },
  {
   "cell_type": "markdown",
   "source": [
    "## Comparison with the scipy library functions\n",
    "\n",
    "We are now going to compute the comparison of this with the scipy library function 'scipy.stats.fisher_exact()' and 'scipy.stats.chi2_contingency()'"
   ],
   "metadata": {
    "collapsed": false
   }
  },
  {
   "cell_type": "code",
   "execution_count": 37,
   "outputs": [
    {
     "name": "stdout",
     "output_type": "stream",
     "text": [
      "The p-value of the one-tailed (to the left) Fisher's test by using the library is:\n",
      "0.06561085972850689\n",
      "The p-value of the one-tailed (to the right) Fisher's test by using the library is:\n",
      "0.0656108597285069\n",
      "The p-value of the two-tailed Fisher's test by using the library is:\n",
      "0.13122171945701377\n"
     ]
    }
   ],
   "source": [
    "obs, col_sums, row_sums, n = obtain_table(1,8,5,4)\n",
    "print('The p-value of the one-tailed (to the left) Fisher\\'s test by using the library is:')\n",
    "print(scipy.stats.fisher_exact(obs, alternative='less')[1])\n",
    "\n",
    "expected = col_sums * row_sums / n\n",
    "tmp = obs.copy()\n",
    "tmp[0,0] = tmp[0,0] + (expected[0,0] + 1)\n",
    "tmp[0,1] = tmp[0,1] - (expected[0,0] + 1)\n",
    "tmp[1,0] = tmp[1,0] - (expected[0,0] + 1)\n",
    "tmp[1,1] = tmp[1,1] + (expected[0,0] + 1)\n",
    "print('The p-value of the one-tailed (to the right) Fisher\\'s test by using the library is:')\n",
    "print(scipy.stats.fisher_exact(tmp, alternative='greater')[1])\n",
    "\n",
    "print('The p-value of the two-tailed Fisher\\'s test by using the library is:')\n",
    "print(scipy.stats.fisher_exact(obs, alternative='two-sided')[1])"
   ],
   "metadata": {
    "collapsed": false
   }
  },
  {
   "cell_type": "code",
   "execution_count": 38,
   "outputs": [
    {
     "name": "stdout",
     "output_type": "stream",
     "text": [
      "The p-value of the one-tailed chi square test by using the library is:\n",
      "0.04550026389635857\n"
     ]
    }
   ],
   "source": [
    "print('The p-value of the one-tailed chi square test by using the library is:')\n",
    "# We set the correction=False since the default value is True: is the degree of freedoms are 1, then the Yates' correction for continuity is applied\n",
    "print(scipy.stats.chi2_contingency(obs, correction=False)[1])"
   ],
   "metadata": {
    "collapsed": false
   }
  },
  {
   "cell_type": "markdown",
   "source": [
    "## Observations\n",
    "\n",
    "One interesting thing can be observed from our results:\n",
    "While the $\\chi^2$ test was rejecting the null-hypothesis, this wasn't true when using the Fisher's test (one-sided).\n",
    "The more reliable result is the one we obtained from the *Exact Fisher's test*.\n",
    "We shouldn't look at the results obtained with the $\\chi^2$ test since we are using it against the assumption that all the expected values must be $\\geq5$. In fact, $\\chi^2$ distribution is a continuous distribution and in order it you need enough samples, otherwise the approximation will not be exact."
   ],
   "metadata": {
    "collapsed": false
   }
  }
 ],
 "metadata": {
  "kernelspec": {
   "display_name": "Python 3",
   "language": "python",
   "name": "python3"
  },
  "language_info": {
   "codemirror_mode": {
    "name": "ipython",
    "version": 2
   },
   "file_extension": ".py",
   "mimetype": "text/x-python",
   "name": "python",
   "nbconvert_exporter": "python",
   "pygments_lexer": "ipython2",
   "version": "2.7.6"
  }
 },
 "nbformat": 4,
 "nbformat_minor": 0
}
